{
 "cells": [
  {
   "cell_type": "markdown",
   "metadata": {},
   "source": [
    "#### Access to raw data required (train_x.csv, train_y.csv) "
   ]
  },
  {
   "cell_type": "code",
   "execution_count": 2,
   "metadata": {},
   "outputs": [
    {
     "name": "stdout",
     "output_type": "stream",
     "text": [
      "Loading raw data . . .\n",
      "Loading preprocessed data . . .\n"
     ]
    }
   ],
   "source": [
    "import numpy as np\n",
    "from sklearn.model_selection import train_test_split\n",
    "from sklearn import svm, metrics\n",
    "\n",
    "print(\"Loading raw data . . .\")\n",
    "train_x = np.loadtxt(\"train_x.csv\", delimiter=\",\") # load from text \n",
    "train_y = np.loadtxt(\"train_y.csv\", delimiter=\",\")\n",
    "\n",
    "print(\"Loading preprocessed data . . .\")\n",
    "train_x2 = np.loadtxt(\"train_x_processed2c.csv\", delimiter=\",\") # load from text \n",
    "\n",
    "X_train, X_test, Y_train, Y_test = train_test_split(train_x, train_y, test_size=0.20, random_state=42)\n",
    "X_train2, X_test2, Y_train2, Y_test2 = train_test_split(train_x2, train_y, test_size=0.20, random_state=42)"
   ]
  },
  {
   "cell_type": "markdown",
   "metadata": {},
   "source": [
    "## Unprocessed Data"
   ]
  },
  {
   "cell_type": "code",
   "execution_count": null,
   "metadata": {
    "collapsed": true
   },
   "outputs": [],
   "source": [
    "#Fit the algorithm on the data\n",
    "linear_svm1 = svm.LinearSVC()\n",
    "#linear_svm1.fit(X_train.values, Y_train.values.ravel())\n",
    "linear_svm1.fit(X_train, Y_train.ravel())\n",
    "\n",
    "#Predict training set:\n",
    "dtrain_predictions = linear_svm1.predict(X_test)\n",
    "\n",
    "#Print model report:\n",
    "print (\"\\nModel Report\")\n",
    "print (\"SVM Accuracy on Unprocessed Data: %.4g\" % metrics.accuracy_score(Y_test, dtrain_predictions))"
   ]
  },
  {
   "cell_type": "markdown",
   "metadata": {},
   "source": [
    "## Processed Data"
   ]
  },
  {
   "cell_type": "code",
   "execution_count": null,
   "metadata": {
    "collapsed": true
   },
   "outputs": [],
   "source": [
    "#Fit the algorithm on the data\n",
    "linear_svm2 = svm.LinearSVC()\n",
    "linear_svm2.fit(X_train2, Y_train2.ravel())\n",
    "\n",
    "#Predict training set:\n",
    "dtrain_predictions1 = linear_svm2.predict(X_test2)\n",
    "\n",
    "#Print model report:\n",
    "print (\"\\nModel Report\")\n",
    "print (\"SVM Accuracy on Preprocessed Data: %.4g\" % metrics.accuracy_score(Y_test2, dtrain_predictions1))"
   ]
  }
 ],
 "metadata": {
  "kernelspec": {
   "display_name": "Python 3",
   "language": "python",
   "name": "python3"
  },
  "language_info": {
   "codemirror_mode": {
    "name": "ipython",
    "version": 3
   },
   "file_extension": ".py",
   "mimetype": "text/x-python",
   "name": "python",
   "nbconvert_exporter": "python",
   "pygments_lexer": "ipython3",
   "version": "3.6.3"
  }
 },
 "nbformat": 4,
 "nbformat_minor": 2
}
